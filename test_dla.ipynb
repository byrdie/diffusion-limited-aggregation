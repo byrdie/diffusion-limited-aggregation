{
 "cells": [
  {
   "cell_type": "code",
   "execution_count": 42,
   "outputs": [],
   "source": [
    "%reload_ext autoreload\n",
    "%autoreload 2\n",
    "%matplotlib notebook"
   ],
   "metadata": {
    "collapsed": false,
    "pycharm": {
     "name": "#%%\n"
    }
   }
  },
  {
   "cell_type": "code",
   "execution_count": 43,
   "outputs": [],
   "source": [
    "import numpy as np\n",
    "import matplotlib.pyplot as plt\n",
    "import matplotlib.colors\n",
    "import matplotlib.animation\n",
    "import dla"
   ],
   "metadata": {
    "collapsed": false,
    "pycharm": {
     "name": "#%%\n"
    }
   }
  },
  {
   "cell_type": "code",
   "execution_count": 44,
   "outputs": [],
   "source": [
    "num_iterations = 2000000\n",
    "num_particles = 10000\n",
    "num_x = 1000\n",
    "num_y = 1000"
   ],
   "metadata": {
    "collapsed": false,
    "pycharm": {
     "name": "#%%\n"
    }
   }
  },
  {
   "cell_type": "code",
   "execution_count": 45,
   "outputs": [],
   "source": [
    "initial = np.zeros((num_x, num_y))\n",
    "initial[0] = 1\n",
    "# initial[num_x // 2, num_y // 2] = 1"
   ],
   "metadata": {
    "collapsed": false,
    "pycharm": {
     "name": "#%%\n"
    }
   }
  },
  {
   "cell_type": "code",
   "execution_count": null,
   "outputs": [],
   "source": [
    "%%time\n",
    "scene, particles = dla.calc_2d(\n",
    "    scene_initial=initial,\n",
    "    num_iterations=num_iterations,\n",
    "    num_particles=num_particles,\n",
    "    num_iterations_per_frame=10000\n",
    ")"
   ],
   "metadata": {
    "collapsed": false,
    "pycharm": {
     "name": "#%%\n",
     "is_executing": true
    }
   }
  },
  {
   "cell_type": "code",
   "execution_count": null,
   "outputs": [],
   "source": [
    "fig, ax = plt.subplots(figsize=(9, 9), constrained_layout=True)\n",
    "img = ax.imshow(\n",
    "    X=scene[0] + particles[0],\n",
    "    norm=matplotlib.colors.PowerNorm(\n",
    "        gamma=0.5,\n",
    "        vmin=0,\n",
    "        vmax=num_iterations,\n",
    "    )\n",
    "\n",
    "    # vmax=num_iterations,\n",
    ")\n",
    "title = ax.set_title('frame 0')\n",
    "ax.set_axis_off()\n",
    "\n",
    "def fig_update(frame: int):\n",
    "    img.set_data(scene[frame])\n",
    "    # img.set_data(scene[frame] + particles[frame])\n",
    "    title.set_text(f'frame {frame}')\n",
    "\n",
    "ani = matplotlib.animation.FuncAnimation(\n",
    "    fig=fig,\n",
    "    func=fig_update,\n",
    "    frames=scene.shape[0],\n",
    "    interval=1000/60,\n",
    ")\n",
    "ani.save('test_dla.mp4')\n",
    "# ani.to_jshtml()"
   ],
   "metadata": {
    "collapsed": false,
    "pycharm": {
     "name": "#%%\n",
     "is_executing": true
    }
   }
  }
 ],
 "metadata": {
  "kernelspec": {
   "display_name": "Python 3",
   "language": "python",
   "name": "python3"
  },
  "language_info": {
   "codemirror_mode": {
    "name": "ipython",
    "version": 2
   },
   "file_extension": ".py",
   "mimetype": "text/x-python",
   "name": "python",
   "nbconvert_exporter": "python",
   "pygments_lexer": "ipython2",
   "version": "2.7.6"
  }
 },
 "nbformat": 4,
 "nbformat_minor": 0
}